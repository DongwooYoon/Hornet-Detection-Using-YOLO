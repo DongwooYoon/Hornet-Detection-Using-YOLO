{
 "cells": [
  {
   "cell_type": "code",
   "execution_count": null,
   "metadata": {
    "id": "2ipFAXet5wp8"
   },
   "outputs": [],
   "source": [
    "# Date    :   2024-12-09\n",
    "# Author  :   Dongwoo Yoon\n",
    "# Contact :   dbsehddn0901@gmail.com\n"
   ]
  },
  {
   "cell_type": "markdown",
   "metadata": {
    "id": "oZfsDHqXflIz"
   },
   "source": [
    "# 웹 크롤링 (Web Crawling)\n",
    "해당 파일은 윈도우 로컬 환경에서 실행하였습니다."
   ]
  },
  {
   "cell_type": "markdown",
   "metadata": {},
   "source": [
    "### 1 . 필요한 라이브러리 설치\n",
    "우선, Python으로 작업할 경우 필요한 라이브러리를 설치합니다.\n",
    "- youtube-dl : 유튜브 동영상을 다운로드하기 위해 사용.\n",
    "- yt-dlp : youtube-dl의 활성 포크(fork)로, 더 자주 업데이트되고 Shorts와 같은 새로운 형식도 잘 지원.\n",
    "- moviepy : 동영상을 프레임으로 분리하기 위해 사용.\n",
    "- opencv-python-headless : 이미지 처리 및 저장을 위해 사용.\n"
   ]
  },
  {
   "cell_type": "code",
   "execution_count": null,
   "metadata": {},
   "outputs": [],
   "source": [
    "!pip install youtube-dl yt-dlp moviepy opencv-python-headless"
   ]
  },
  {
   "cell_type": "markdown",
   "metadata": {},
   "source": [
    "### 2 . 동영상 다운로드\n",
    "~~youtube-dl을 사용하여 유튜브 동영상을 다운로드합니다.~~\n",
    "\n",
    "yt_dlp를 사용하여 유튜브 동영상을 다운로드합니다.\n"
   ]
  },
  {
   "cell_type": "code",
   "execution_count": 9,
   "metadata": {},
   "outputs": [],
   "source": [
    "import os\n",
    "# import youtube_dl\n",
    "import yt_dlp\n",
    "\n",
    "def download_video(youtube_url, video_path):\n",
    "    ydl_opts = {\n",
    "        'format': 'best',\n",
    "        'outtmpl': video_path\n",
    "    }\n",
    "    # with youtube_dl.YoutubeDL(ydl_opts) as ydl:\n",
    "    with yt_dlp.YoutubeDL(ydl_opts) as ydl:\n",
    "        ydl.download([youtube_url])"
   ]
  },
  {
   "cell_type": "markdown",
   "metadata": {},
   "source": [
    "### 3 . 동영상 1초마다 캡쳐하기\n",
    "MoviePy를 활용하여 동영상에서 1초마다 프레임을 추출합니다."
   ]
  },
  {
   "cell_type": "code",
   "execution_count": 10,
   "metadata": {},
   "outputs": [],
   "source": [
    "from moviepy.video.io.VideoFileClip import VideoFileClip\n",
    "\n",
    "def capture_frames(video_path, output_folder):\n",
    "    clip = VideoFileClip(video_path)\n",
    "    duration = int(clip.duration)  # 동영상 총 길이 (초 단위)\n",
    "    \n",
    "    os.makedirs(output_folder, exist_ok=True)\n",
    "    \n",
    "    for second in range(duration):\n",
    "        frame = clip.get_frame(second)  # 1초 단위로 프레임 추출\n",
    "        output_path = os.path.join(output_folder, f'frame_{second}.jpg')\n",
    "        \n",
    "        # OpenCV를 활용한 이미지 저장\n",
    "        import cv2\n",
    "        cv2.imwrite(output_path, frame[:, :, ::-1])  # RGB에서 BGR로 변환하여 저장\n",
    "\n",
    "    clip.close()\n"
   ]
  },
  {
   "cell_type": "markdown",
   "metadata": {},
   "source": [
    "### 4 . 전체 실행\n",
    "유튜브 주소를 입력받아 동영상을 다운로드하고, 프레임을 추출합니다.\n",
    "\n",
    "이 코드를 실행하면:\n",
    "\n",
    "1. video_path에 유튜브 동영상이 저장됩니다.\n",
    "2. output_folder에 1초마다 캡쳐된 이미지가 frame_0.jpg, frame_1.jpg 형식으로 저장됩니다."
   ]
  },
  {
   "cell_type": "code",
   "execution_count": null,
   "metadata": {},
   "outputs": [],
   "source": [
    "if __name__ == \"__main__\":\n",
    "    videos = [\n",
    "        {\n",
    "            \"youtube_url\": \"https://www.youtube.com/shorts/obGFn8M1Kao\",\n",
    "            \"video_path\": \"short1.mp4\",\n",
    "            \"output_folder\": \"short1\"\n",
    "        },\n",
    "        {\n",
    "            \"youtube_url\": \"https://www.youtube.com/shorts/gsG5J1wEvU4\",\n",
    "            \"video_path\": \"short2.mp4\",\n",
    "            \"output_folder\": \"short2\"\n",
    "        },\n",
    "        {\n",
    "            \"youtube_url\": \"https://www.youtube.com/shorts/nZPDmDmxIfc\",\n",
    "            \"video_path\": \"short3.mp4\",\n",
    "            \"output_folder\": \"short3\"\n",
    "        },\n",
    "        {\n",
    "            \"youtube_url\": \"https://www.youtube.com/shorts/uNyLK47PfuM\",\n",
    "            \"video_path\": \"short4.mp4\",\n",
    "            \"output_folder\": \"short4\"\n",
    "        },\n",
    "        {\n",
    "            \"youtube_url\": \"https://www.youtube.com/shorts/3iKQ1XDZEqc\",\n",
    "            \"video_path\": \"short5.mp4\",\n",
    "            \"output_folder\": \"short5\"\n",
    "        },\n",
    "        {\n",
    "            \"youtube_url\": \"https://www.youtube.com/shorts/obGFn8M1Kao\",\n",
    "            \"video_path\": \"short6.mp4\",\n",
    "            \"output_folder\": \"short6\"\n",
    "        }\n",
    "    ]\n",
    "\n",
    "    for video in videos:\n",
    "\n",
    "        youtube_url = video[\"youtube_url\"]\n",
    "        video_path = video[\"video_path\"]\n",
    "        output_folder = video[\"output_folder\"]\n",
    "        \n",
    "        print(f\"Processing video: {youtube_url}\")\n",
    "\n",
    "        # 동영상 다운로드 및 프레임 추출\n",
    "        download_video(youtube_url, video_path)\n",
    "        capture_frames(video_path, output_folder)\n",
    "\n",
    "        print(f\"Frames saved in {output_folder}\")\n"
   ]
  },
  {
   "cell_type": "code",
   "execution_count": 3,
   "metadata": {},
   "outputs": [
    {
     "name": "stdout",
     "output_type": "stream",
     "text": [
      "Counting images in each folder:\n",
      "Folder 'short1' contains 34 images.\n",
      "Folder 'short2' contains 22 images.\n",
      "Folder 'short3' contains 20 images.\n",
      "Folder 'short4' contains 17 images.\n",
      "Folder 'short5' contains 36 images.\n",
      "Folder 'short6' contains 34 images.\n",
      "\n",
      "Summary:\n",
      "Total images across all folders: 163\n"
     ]
    }
   ],
   "source": [
    "def count_images_in_folder(folder_path):\n",
    "    try:\n",
    "        # 폴더 안의 파일 리스트 가져오기\n",
    "        files = os.listdir(folder_path)\n",
    "        # 확장자가 이미지 파일인 경우만 필터링\n",
    "        image_files = [file for file in files if file.endswith(('.png', '.jpg', '.jpeg'))]\n",
    "        return len(image_files)\n",
    "    except FileNotFoundError:\n",
    "        # 폴더가 존재하지 않는 경우 0 반환\n",
    "        print(f\"Folder not found: {folder_path}\")\n",
    "        return 0\n",
    "\n",
    "if __name__ == \"__main__\":\n",
    "    folders = [\n",
    "        \"short1\",\n",
    "        \"short2\",\n",
    "        \"short3\",\n",
    "        \"short4\",\n",
    "        \"short5\",\n",
    "        \"short6\"\n",
    "    ]\n",
    "\n",
    "    total_images = 0  # 전체 이미지 개수를 저장할 변수\n",
    "\n",
    "    print(\"Counting images in each folder:\")\n",
    "    for folder in folders:\n",
    "        image_count = count_images_in_folder(folder)\n",
    "        total_images += image_count\n",
    "        print(f\"Folder '{folder}' contains {image_count} images.\")\n",
    "\n",
    "    print(\"\\nSummary:\")\n",
    "    print(f\"Total images across all folders: {total_images}\")\n"
   ]
  },
  {
   "cell_type": "code",
   "execution_count": 4,
   "metadata": {},
   "outputs": [
    {
     "name": "stdout",
     "output_type": "stream",
     "text": [
      "Total images copied to 'all': 163\n"
     ]
    }
   ],
   "source": [
    "import os\n",
    "import shutil\n",
    "\n",
    "def copy_images_to_all_folder(source_folders, destination_folder):\n",
    "    # 'all' 폴더 생성\n",
    "    os.makedirs(destination_folder, exist_ok=True)\n",
    "    image_count = 0  # 복사된 이미지 수를 세기 위한 변수\n",
    "\n",
    "    for folder in source_folders:\n",
    "        try:\n",
    "            # 폴더 안의 파일 리스트 가져오기\n",
    "            files = os.listdir(folder)\n",
    "            # 확장자가 이미지 파일인 경우만 필터링\n",
    "            image_files = [file for file in files if file.endswith(('.png', '.jpg', '.jpeg'))]\n",
    "            \n",
    "            for image_file in image_files:\n",
    "                # 원본 파일 경로\n",
    "                source_path = os.path.join(folder, image_file)\n",
    "                # 대상 파일 경로\n",
    "                destination_path = os.path.join(destination_folder, image_file)\n",
    "                \n",
    "                # 이름 충돌 방지: 동일한 이름의 파일이 있으면 번호 추가\n",
    "                if os.path.exists(destination_path):\n",
    "                    base, ext = os.path.splitext(image_file)\n",
    "                    counter = 1\n",
    "                    while os.path.exists(destination_path):\n",
    "                        destination_path = os.path.join(destination_folder, f\"{base}_{counter}{ext}\")\n",
    "                        counter += 1\n",
    "                \n",
    "                # 파일 복사\n",
    "                shutil.copy2(source_path, destination_path)\n",
    "                image_count += 1\n",
    "        \n",
    "        except FileNotFoundError:\n",
    "            print(f\"Folder not found: {folder}\")\n",
    "        except Exception as e:\n",
    "            print(f\"Error processing folder '{folder}': {e}\")\n",
    "\n",
    "    print(f\"Total images copied to '{destination_folder}': {image_count}\")\n",
    "\n",
    "if __name__ == \"__main__\":\n",
    "    source_folders = [\n",
    "        \"short1\",\n",
    "        \"short2\",\n",
    "        \"short3\",\n",
    "        \"short4\",\n",
    "        \"short5\",\n",
    "        \"short6\"\n",
    "    ]\n",
    "    destination_folder = \"all\"\n",
    "\n",
    "    copy_images_to_all_folder(source_folders, destination_folder)\n"
   ]
  }
 ],
 "metadata": {
  "colab": {
   "provenance": []
  },
  "kernelspec": {
   "display_name": "Python 3",
   "language": "python",
   "name": "python3"
  },
  "language_info": {
   "codemirror_mode": {
    "name": "ipython",
    "version": 3
   },
   "file_extension": ".py",
   "mimetype": "text/x-python",
   "name": "python",
   "nbconvert_exporter": "python",
   "pygments_lexer": "ipython3",
   "version": "3.9.11"
  }
 },
 "nbformat": 4,
 "nbformat_minor": 0
}
